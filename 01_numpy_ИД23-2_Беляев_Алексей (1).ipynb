{
 "cells": [
  {
   "cell_type": "markdown",
   "metadata": {},
   "source": [
    "# Numpy"
   ]
  },
  {
   "cell_type": "markdown",
   "metadata": {},
   "source": [
    "## Лабораторная работа №1.1"
   ]
  },
  {
   "cell_type": "markdown",
   "metadata": {},
   "source": [
    "1. Файл `minutes_n_ingredients.csv` содержит информацию об идентификаторе рецепта, времени его выполнения в минутах и количестве необходимых ингредиентов. Считайте данные из этого файла в виде массива `numpy` типа `int32`, используя `np.loadtxt`. Выведите на экран первые 5 строк массива."
   ]
  },
  {
   "cell_type": "code",
   "execution_count": 1,
   "metadata": {},
   "outputs": [
    {
     "data": {
      "text/plain": [
       "array([[127244,     60,     16],\n",
       "       [ 23891,     25,      7],\n",
       "       [ 94746,     10,      6],\n",
       "       [ 67660,      5,      6],\n",
       "       [157911,     60,     14]])"
      ]
     },
     "execution_count": 1,
     "metadata": {},
     "output_type": "execute_result"
    }
   ],
   "source": [
    "import numpy as np\n",
    "\n",
    "\n",
    "recipes = np.loadtxt('minutes_n_ingredients.csv', delimiter=',', dtype=np.int32, skiprows=1)\n",
    "recipes[:5]"
   ]
  },
  {
   "cell_type": "markdown",
   "metadata": {},
   "source": [
    "2. Вычислите среднее значение, минимум, максимум и медиану по каждому из столбцов, кроме первого."
   ]
  },
  {
   "cell_type": "code",
   "execution_count": 2,
   "metadata": {},
   "outputs": [
    {
     "name": "stdout",
     "output_type": "stream",
     "text": [
      "Среднее значение для минут =  21601.00169\n",
      "Минимальное значение для минут =  0\n",
      "Максимальное значение для минут =  2147483647\n",
      "Медиана для минут =  40.0\n"
     ]
    }
   ],
   "source": [
    "minutes_average_value = np.average(recipes[:,1])\n",
    "minutes_min = np.min(recipes[:,1])\n",
    "minutes_max = np.max(recipes[:,1])\n",
    "minutes_median = np.median(recipes[:,1])\n",
    "print('Среднее значение для минут = ', minutes_average_value)\n",
    "print('Минимальное значение для минут = ', minutes_min)\n",
    "print('Максимальное значение для минут = ', minutes_max)\n",
    "print('Медиана для минут = ', minutes_median)"
   ]
  },
  {
   "cell_type": "code",
   "execution_count": 3,
   "metadata": {},
   "outputs": [
    {
     "name": "stdout",
     "output_type": "stream",
     "text": [
      "Среднее значение для ингредиентов =  9.05528\n",
      "Минимальное значение для ингредиентов =  0\n",
      "Максимальное значение для ингредиентов =  2147483647\n",
      "Медиана для ингредиентов =  40.0\n"
     ]
    }
   ],
   "source": [
    "ingredients_average_value = np.average(recipes[:,2])\n",
    "ingredients_min = np.min(recipes[:,1])\n",
    "ingredients_max = np.max(recipes[:,1])\n",
    "ingredients_median = np.median(recipes[:,1])\n",
    "print('Среднее значение для ингредиентов = ', ingredients_average_value)\n",
    "print('Минимальное значение для ингредиентов = ', ingredients_min)\n",
    "print('Максимальное значение для ингредиентов = ', ingredients_max)\n",
    "print('Медиана для ингредиентов = ', ingredients_median)"
   ]
  },
  {
   "cell_type": "markdown",
   "metadata": {},
   "source": [
    "3. Ограничьте сверху значения продолжительности выполнения рецепта значением квантиля $q_{0.75}$. "
   ]
  },
  {
   "cell_type": "code",
   "execution_count": 4,
   "metadata": {},
   "outputs": [
    {
     "name": "stdout",
     "output_type": "stream",
     "text": [
      "2147483647\n",
      "[[60.]\n",
      " [25.]\n",
      " [10.]\n",
      " ...\n",
      " [65.]\n",
      " [ 5.]\n",
      " [65.]]\n",
      "65.0\n"
     ]
    }
   ],
   "source": [
    "print(recipes[:,1:2].max())\n",
    "minutes = recipes[:,1:2]\n",
    "block = np.clip(minutes, 0, np.quantile(minutes, 0.75))\n",
    "print(block)\n",
    "print(block.max())"
   ]
  },
  {
   "cell_type": "markdown",
   "metadata": {},
   "source": [
    "4. Посчитайте, для скольких рецептов указана продолжительность, равная нулю. Замените для таких строк значение в данном столбце на 1."
   ]
  },
  {
   "cell_type": "code",
   "execution_count": 9,
   "metadata": {},
   "outputs": [
    {
     "name": "stdout",
     "output_type": "stream",
     "text": [
      "0\n"
     ]
    }
   ],
   "source": [
    "print(len(recipes[:,1:2][recipes[:,1:2] == 0]))\n",
    "recipes[:,1:2][recipes[:,1:2] == 0] = 1"
   ]
  },
  {
   "cell_type": "markdown",
   "metadata": {},
   "source": [
    "5. Посчитайте, сколько уникальных рецептов находится в датасете."
   ]
  },
  {
   "cell_type": "code",
   "execution_count": 10,
   "metadata": {},
   "outputs": [
    {
     "data": {
      "text/plain": [
       "100000"
      ]
     },
     "execution_count": 10,
     "metadata": {},
     "output_type": "execute_result"
    }
   ],
   "source": [
    "uniq_recipes = np.unique(recipes, axis=0)\n",
    "len(uniq_recipes)\n"
   ]
  },
  {
   "cell_type": "markdown",
   "metadata": {},
   "source": [
    "6. Сколько и каких различных значений кол-ва ингредиентов присутвует в рецептах из датасета?"
   ]
  },
  {
   "cell_type": "code",
   "execution_count": 12,
   "metadata": {},
   "outputs": [
    {
     "name": "stdout",
     "output_type": "stream",
     "text": [
      "37\n"
     ]
    }
   ],
   "source": [
    "uniq_ingredients = np.unique(recipes[:,2])\n",
    "print(len(uniq_ingredients))"
   ]
  },
  {
   "cell_type": "markdown",
   "metadata": {},
   "source": [
    "## Лабораторная работа №1.2"
   ]
  },
  {
   "cell_type": "markdown",
   "metadata": {},
   "source": [
    "7. Создайте версию массива, содержащую информацию только о рецептах, состоящих не более чем из 5 ингредиентов."
   ]
  },
  {
   "cell_type": "code",
   "execution_count": 14,
   "metadata": {},
   "outputs": [
    {
     "name": "stdout",
     "output_type": "stream",
     "text": [
      "[[446597     15      5]\n",
      " [204134      5      3]\n",
      " [ 25623      6      4]\n",
      " ...\n",
      " [ 52088     60      5]\n",
      " [128811     15      4]\n",
      " [370915      5      4]]\n",
      "Длинна нового массива:  17262\n"
     ]
    }
   ],
   "source": [
    "recipes_with_no_more_5ing = recipes[recipes[:,2] <= 5]\n",
    "print(recipes_with_no_more_5ing)\n",
    "print(\"Длинна нового массива: \", len(recipes_with_no_more_5ing))"
   ]
  },
  {
   "cell_type": "markdown",
   "metadata": {},
   "source": [
    "8. Для каждого рецепта посчитайте, сколько в среднем ингредиентов приходится на одну минуту рецепта. Найдите максимальное значение этой величины для всего датасета"
   ]
  },
  {
   "cell_type": "code",
   "execution_count": 16,
   "metadata": {},
   "outputs": [
    {
     "name": "stdout",
     "output_type": "stream",
     "text": [
      "[0.26666667 0.28       0.6        ... 0.23076923 0.8        0.1       ]\n",
      "24.0\n"
     ]
    }
   ],
   "source": [
    "ing_for_min = np.array([])\n",
    "for e in range(recipes.shape[0]):\n",
    "    ing_for_min = np.append(ing_for_min, recipes[:,2][e]/recipes[:,1:2][e])\n",
    "print(ing_for_min)\n",
    "print(ing_for_min.max())"
   ]
  },
  {
   "cell_type": "markdown",
   "metadata": {},
   "source": [
    "9. Вычислите среднее количество ингредиентов для топ-100 рецептов с наибольшей продолжительностью"
   ]
  },
  {
   "cell_type": "code",
   "execution_count": 17,
   "metadata": {},
   "outputs": [
    {
     "data": {
      "text/plain": [
       "16.0"
      ]
     },
     "execution_count": 17,
     "metadata": {},
     "output_type": "execute_result"
    }
   ],
   "source": [
    "top100_rec = np.argsort(recipes[:,1:2])[:100:-1] # индексы рецептов с наибольшей продолжительностью \n",
    "ingr = np.array([])\n",
    "for i in top100_rec:\n",
    "    ingr = np.append(ingr, recipes[:,2][i])\n",
    "np.average(ingr)"
   ]
  },
  {
   "cell_type": "markdown",
   "metadata": {},
   "source": [
    "10. Выберите случайным образом и выведите информацию о 10 различных рецептах"
   ]
  },
  {
   "cell_type": "code",
   "execution_count": 18,
   "metadata": {},
   "outputs": [
    {
     "name": "stdout",
     "output_type": "stream",
     "text": [
      "[[489986     30     10]\n",
      " [287836     35     10]\n",
      " [ 17977     90      7]\n",
      " [ 93366     85     10]\n",
      " [325217     48     14]\n",
      " [455643     95      8]\n",
      " [118641   1455      7]\n",
      " [ 32403     15      8]\n",
      " [ 44391     55     11]\n",
      " [108157     25     13]]\n"
     ]
    }
   ],
   "source": [
    "random_recipes = np.random.randint(0, recipes.shape[0], 10)\n",
    "print(recipes[random_recipes])"
   ]
  },
  {
   "cell_type": "markdown",
   "metadata": {},
   "source": [
    "11. Выведите процент рецептов, кол-во ингредиентов в которых меньше среднего."
   ]
  },
  {
   "cell_type": "code",
   "execution_count": 19,
   "metadata": {},
   "outputs": [
    {
     "data": {
      "text/plain": [
       "58.802"
      ]
     },
     "execution_count": 19,
     "metadata": {},
     "output_type": "execute_result"
    }
   ],
   "source": [
    "aver_ing = np.average(recipes[:,2])\n",
    "no_more_aver = recipes[:,2][recipes[:,2] < aver_ing]\n",
    "len(no_more_aver)/len(recipes)*100"
   ]
  },
  {
   "cell_type": "markdown",
   "metadata": {},
   "source": [
    "12. Назовем \"простым\" такой рецепт, длительность выполнения которого не больше 20 минут и кол-во ингредиентов в котором не больше 5. Создайте версию датасета с дополнительным столбцом, значениями которого являются 1, если рецепт простой, и 0 в противном случае."
   ]
  },
  {
   "cell_type": "code",
   "execution_count": 3,
   "metadata": {},
   "outputs": [
    {
     "ename": "NameError",
     "evalue": "name 'recipes' is not defined",
     "output_type": "error",
     "traceback": [
      "\u001b[1;31m---------------------------------------------------------------------------\u001b[0m",
      "\u001b[1;31mNameError\u001b[0m                                 Traceback (most recent call last)",
      "Cell \u001b[1;32mIn[3], line 2\u001b[0m\n\u001b[0;32m      1\u001b[0m \u001b[38;5;28;01mimport\u001b[39;00m \u001b[38;5;21;01mnumpy\u001b[39;00m \u001b[38;5;28;01mas\u001b[39;00m \u001b[38;5;21;01mnp\u001b[39;00m\n\u001b[1;32m----> 2\u001b[0m simple_rec2 \u001b[38;5;241m=\u001b[39m np\u001b[38;5;241m.\u001b[39marray((recipes[:, \u001b[38;5;241m1\u001b[39m] \u001b[38;5;241m<\u001b[39m\u001b[38;5;241m=\u001b[39m \u001b[38;5;241m20\u001b[39m) \u001b[38;5;241m&\u001b[39m (recipes[:, \u001b[38;5;241m2\u001b[39m] \u001b[38;5;241m<\u001b[39m\u001b[38;5;241m=\u001b[39m \u001b[38;5;241m5\u001b[39m))\u001b[38;5;241m.\u001b[39mreshape(\u001b[38;5;241m-\u001b[39m\u001b[38;5;241m1\u001b[39m,\u001b[38;5;241m1\u001b[39m)\u001b[38;5;241m.\u001b[39mastype(\u001b[38;5;124m'\u001b[39m\u001b[38;5;124mint\u001b[39m\u001b[38;5;124m'\u001b[39m)\n\u001b[0;32m      3\u001b[0m new_recipes2 \u001b[38;5;241m=\u001b[39m np\u001b[38;5;241m.\u001b[39mconcatenate((recipes, simple_rec2), axis\u001b[38;5;241m=\u001b[39m\u001b[38;5;241m1\u001b[39m)\n\u001b[0;32m      4\u001b[0m new_recipes2\n",
      "\u001b[1;31mNameError\u001b[0m: name 'recipes' is not defined"
     ]
    }
   ],
   "source": [
    "import numpy as np\n",
    "simple_rec2 = np.array((recipes[:, 1] <= 20) & (recipes[:, 2] <= 5)).reshape(-1,1).astype('int')\n",
    "new_recipes2 = np.concatenate((recipes, simple_rec2), axis=1)\n",
    "new_recipes2"
   ]
  },
  {
   "cell_type": "markdown",
   "metadata": {},
   "source": [
    "13. Выведите процент \"простых\" рецептов в датасете"
   ]
  },
  {
   "cell_type": "code",
   "execution_count": null,
   "metadata": {},
   "outputs": [],
   "source": [
    "(simple_rec2[simple_rec2 == 1].shape[0] / simple_rec2.shape[0]) * 100"
   ]
  },
  {
   "cell_type": "markdown",
   "metadata": {},
   "source": [
    "14. Разделим рецепты на группы по следующему правилу. Назовем рецепты короткими, если их продолжительность составляет менее 10 минут; стандартными, если их продолжительность составляет более 10, но менее 20 минут; и длинными, если их продолжительность составляет не менее 20 минут. Создайте трехмерный массив, где нулевая ось отвечает за номер группы (короткий, стандартный или длинный рецепт), первая ось - за сам рецепт и вторая ось - за характеристики рецепта. Выберите максимальное количество рецептов из каждой группы таким образом, чтобы было возможно сформировать трехмерный массив. Выведите форму полученного массива."
   ]
  }
 ],
 "metadata": {
  "kernelspec": {
   "display_name": "Python 3 (ipykernel)",
   "language": "python",
   "name": "python3"
  },
  "language_info": {
   "codemirror_mode": {
    "name": "ipython",
    "version": 3
   },
   "file_extension": ".py",
   "mimetype": "text/x-python",
   "name": "python",
   "nbconvert_exporter": "python",
   "pygments_lexer": "ipython3",
   "version": "3.11.7"
  }
 },
 "nbformat": 4,
 "nbformat_minor": 4
}
